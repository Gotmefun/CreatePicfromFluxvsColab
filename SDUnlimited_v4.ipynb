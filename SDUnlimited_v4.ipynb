{
 "nbformat": 4,
 "nbformat_minor": 0,
 "metadata": {
  "colab": {
   "provenance": [],
   "gpuType": "T4"
  },
  "kernelspec": {
   "name": "python3",
   "display_name": "Python 3"
  },
  "language_info": {
   "name": "python"
  },
  "accelerator": "GPU"
 },
 "cells": [
  {
   "cell_type": "markdown",
   "source": [
    "# 🔞 SD Unlimited v4 - NSFW Image Generation\n",
    "\n",
    "**✅ แก้ทุกปัญหา - ใช้ Cloudflare Tunnel**\n",
    "\n",
    "---\n",
    "\n",
    "## 📋 ขั้นตอน:\n",
    "\n",
    "1. **Cell 1.0** - Setup\n",
    "2. **Cell 2.0** - Anti-Timeout\n",
    "3. **Cell 3.0** - Download Models\n",
    "4. **Cell 3.5** - xFormers (Optional)\n",
    "5. **Cell 4.0** - Start WebUI\n",
    "6. **Cell 4.5** - Create Public URL ← **ดู URL ตรงนี้!**\n",
    "7. **Cell 5.0** - Status\n",
    "\n",
    "---\n"
   ],
   "metadata": {
    "id": "header"
   }
  },
  {
   "cell_type": "markdown",
   "source": [
    "# Cell 1.0 - 🔧 Setup\n"
   ],
   "metadata": {
    "id": "c1h"
   }
  },
  {
   "cell_type": "code",
   "execution_count": null,
   "metadata": {
    "id": "c1"
   },
   "outputs": [],
   "source": [
    "from google.colab import drive\n",
    "drive.mount('/content/drive')\n",
    "import os\n",
    "print(\"✅ Mounted\\n\" + \"=\"*60)\n",
    "os.makedirs('/content/drive/MyDrive/SD_Unlimited', exist_ok=True)\n",
    "os.makedirs('/content/drive/MyDrive/SD_Unlimited/models', exist_ok=True)\n",
    "os.makedirs('/content/drive/MyDrive/SD_Unlimited/outputs', exist_ok=True)\n",
    "print(\"📁 Folders created\\n\" + \"=\"*60)\n",
    "!apt-get update -qq > /dev/null 2>&1\n",
    "!apt-get install -y -qq aria2 > /dev/null 2>&1\n",
    "if not os.path.exists('/content/stable-diffusion-webui'):\n",
    "    print(\"\\n📥 Cloning...\")\n",
    "    !git clone -q https://github.com/AUTOMATIC1111/stable-diffusion-webui /content/stable-diffusion-webui\n",
    "    print(\"✅ Done!\")\n",
    "else:\n",
    "    print(\"\\n✅ Already exists!\")\n",
    "os.chdir('/content/stable-diffusion-webui')\n",
    "!rm -rf /content/stable-diffusion-webui/models/Stable-diffusion\n",
    "!ln -s /content/drive/MyDrive/SD_Unlimited/models /content/stable-diffusion-webui/models/Stable-diffusion\n",
    "!rm -rf /content/stable-diffusion-webui/outputs\n",
    "!ln -s /content/drive/MyDrive/SD_Unlimited/outputs /content/stable-diffusion-webui/outputs\n",
    "print(\"\\n\" + \"=\"*60)\n",
    "print(\"✅ Setup complete!\")\n",
    "print(\"🎯 Next: Cell 2.0\")\n",
    "print(\"=\"*60)"
   ]
  },
  {
   "cell_type": "markdown",
   "source": [
    "# Cell 2.0 - ⏰ Anti-Timeout\n"
   ],
   "metadata": {
    "id": "c2h"
   }
  },
  {
   "cell_type": "code",
   "source": [
    "%%html\n",
    "<script>\n",
    "console.log('🔒 Anti-Timeout ACTIVE');\n",
    "var count=0,interval;\n",
    "function ping(){\n",
    "console.log('⏰ #'+(++count));\n",
    "var btn=document.querySelector('colab-connect-button');\n",
    "if(btn)btn.shadowRoot.querySelector('#connect').click();\n",
    "fetch('/api/kernels').then(r=>r.ok&&console.log('✅')).catch(e=>console.log('⚠️',e));\n",
    "}\n",
    "interval=setInterval(ping,3e5);\n",
    "ping();\n",
    "document.body.insertAdjacentHTML('afterbegin','<div style=\"position:fixed;bottom:20px;right:20px;background:linear-gradient(135deg,#667eea,#764ba2);color:white;padding:15px 20px;border-radius:10px;box-shadow:0 4px 15px rgba(0,0,0,.3);z-index:9999\">🔒 Anti-Timeout: <b style=\"color:#7eff7e\">ACTIVE</b></div>');\n",
    "</script>\n",
    "<div style=\"background:linear-gradient(135deg,#667eea,#764ba2);color:white;padding:20px;border-radius:10px;text-align:center;margin:20px 0\"><h2 style=\"margin:0\">✅ Anti-Timeout Active!</h2></div>"
   ],
   "metadata": {
    "id": "c2"
   },
   "execution_count": null,
   "outputs": []
  },
  {
   "cell_type": "markdown",
   "source": [
    "# Cell 3.0 - 🔞 Download Models\n"
   ],
   "metadata": {
    "id": "c3h"
   }
  },
  {
   "cell_type": "code",
   "source": [
    "import os\n",
    "ChilloutMix=True\n",
    "RealisticVision=False\n",
    "DreamShaper=False\n",
    "CyberRealistic=False\n",
    "mdir='/content/drive/MyDrive/SD_Unlimited/models'\n",
    "os.makedirs(mdir,exist_ok=True)\n",
    "def dl(fn,url,en,desc):\n",
    "    if not en:return print(f\"⏭️  {desc}\")\n",
    "    fp=os.path.join(mdir,fn)\n",
    "    if os.path.exists(fp):return print(f\"✅ {desc}\")\n",
    "    print(f\"\\n📥 {desc}\\n\")\n",
    "    try:\n",
    "        !aria2c -x16 -s16 -k1M -c --file-allocation=none --dir=\"{mdir}\" --out=\"{fn}\" \"{url}\"\n",
    "        print(f\"\\n✅ {desc}\\n\") if os.path.exists(fp) else print(f\"\\n❌ {desc}\\n\")\n",
    "    except Exception as e:print(f\"\\n❌ {e}\\n\")\n",
    "print(\"=\"*60+\"\\n🔞 Downloading Models\\n\"+\"=\"*60+\"\\n\")\n",
    "dl(\"chilloutmix.safetensors\",\"https://civitai.com/api/download/models/11745\",ChilloutMix,\"ChilloutMix\")\n",
    "dl(\"realisticvision.safetensors\",\"https://civitai.com/api/download/models/130072\",RealisticVision,\"Realistic Vision\")\n",
    "dl(\"dreamshaper.safetensors\",\"https://civitai.com/api/download/models/128713\",DreamShaper,\"DreamShaper\")\n",
    "dl(\"cyberrealistic.safetensors\",\"https://civitai.com/api/download/models/109123\",CyberRealistic,\"CyberRealistic\")\n",
    "print(\"=\"*60+\"\\n✅ Complete!\\n🎯 Next: Cell 3.5\\n\"+\"=\"*60)"
   ],
   "metadata": {
    "id": "c3"
   },
   "execution_count": null,
   "outputs": []
  },
  {
   "cell_type": "markdown",
   "source": [
    "# Cell 3.5 - 🔧 xFormers (Optional)\n"
   ],
   "metadata": {
    "id": "c35h"
   }
  },
  {
   "cell_type": "code",
   "source": [
    "print(\"=\"*60+\"\\n🔧 Installing xFormers...\\n\"+\"=\"*60+\"\\n\")\n",
    "try:\n",
    "    !pip install -q xformers==0.0.27 --no-deps\n",
    "    print(\"✅ xFormers OK (30-50% faster!)\\n\")\n",
    "except:\n",
    "    print(\"⚠️ xFormers failed (not critical)\\n\")\n",
    "print(\"=\"*60+\"\\n✅ Done!\\n🎯 Next: Cell 4.0\\n\"+\"=\"*60)"
   ],
   "metadata": {
    "id": "c35"
   },
   "execution_count": null,
   "outputs": []
  },
  {
   "cell_type": "markdown",
   "source": [
    "# Cell 4.0 - 🚀 Start WebUI\n"
   ],
   "metadata": {
    "id": "c4h"
   }
  },
  {
   "cell_type": "code",
   "source": [
    "import os,subprocess,time\n",
    "os.chdir('/content/stable-diffusion-webui')\n",
    "print(\"=\"*60+\"\\n🚀 Starting WebUI...\\n\"+\"=\"*60+\"\\n⏱️  Wait 60 seconds...\\n\")\n",
    "p=subprocess.Popen(['python','launch.py','--skip-python-version-check','--skip-torch-cuda-test','--api','--cors-allow-origins=*','--enable-insecure-extension-access','--no-half-vae','--disable-safe-unpickle','--no-hashing','--lowvram','--skip-install','--no-gradio-queue'],stdout=subprocess.PIPE,stderr=subprocess.PIPE,text=True)\n",
    "print(f\"✅ Starting (PID: {p.pid})\\n⏳ Waiting...\\n\")\n",
    "time.sleep(60)\n",
    "import urllib.request\n",
    "try:\n",
    "    urllib.request.urlopen('http://127.0.0.1:7860')\n",
    "    print(\"✅ WebUI running!\\n🎯 Next: Cell 4.5\\n\"+\"=\"*60)\n",
    "except:\n",
    "    print(\"⚠️  Still starting... wait 1-2 min\\n\"+\"=\"*60)"
   ],
   "metadata": {
    "id": "c4"
   },
   "execution_count": null,
   "outputs": []
  },
  {
   "cell_type": "markdown",
   "source": [
    "# Cell 4.5 - 🌐 Create Public URL\n",
    "\n",
    "## 🔍 URL จะแสดงตรงนี้!\n"
   ],
   "metadata": {
    "id": "c45h"
   }
  },
  {
   "cell_type": "code",
   "source": [
    "import subprocess,time,re\n",
    "print(\"=\"*60+\"\\n🌐 Creating Cloudflare Tunnel...\\n\"+\"=\"*60+\"\\n\")\n",
    "!wget -q https://github.com/cloudflare/cloudflared/releases/latest/download/cloudflared-linux-amd64.deb\n",
    "!dpkg -i cloudflared-linux-amd64.deb >/dev/null 2>&1\n",
    "print(\"✅ Cloudflared installed!\\n📡 Creating tunnel...\\n\")\n",
    "tp=subprocess.Popen(['cloudflared','tunnel','--url','http://127.0.0.1:7860'],stdout=subprocess.PIPE,stderr=subprocess.PIPE,text=True)\n",
    "url=None\n",
    "print(\"⏳ Waiting for URL...\\n\")\n",
    "for i in range(30):\n",
    "    line=tp.stderr.readline()\n",
    "    if 'trycloudflare.com' in line:\n",
    "        m=re.search(r'https://[a-zA-Z0-9-]+\\.trycloudflare\\.com',line)\n",
    "        if m:\n",
    "            url=m.group(0)\n",
    "            break\n",
    "    time.sleep(1)\n",
    "if url:\n",
    "    print(\"\\n\"+\"=\"*60+\"\\n✅ PUBLIC URL CREATED!\\n\"+\"=\"*60+\"\\n\\n🔗 YOUR API URL:\\n\\n\"+\"=\"*60+\"\\n   \"+url+\"\\n\"+\"=\"*60+\"\\n\\n📋 COPY URL ABOVE!\\n\\n📝 How to use:\\n   1. Copy URL above\\n   2. Go to https://aigen.ptee88.com/\\n   3. Settings → Google Colab → Paste URL\\n   4. Settings → Enable NSFW Unlimited Mode\\n   5. Save & Generate!\\n\\n\"+\"=\"*60)\n",
    "    from IPython.display import HTML,display\n",
    "    html=f'<div style=\"background:linear-gradient(135deg,#667eea,#764ba2);color:white;padding:30px;border-radius:15px;margin:20px 0;text-align:center;box-shadow:0 8px 20px rgba(0,0,0,.3)\"><h1 style=\"margin:0 0 20px 0;font-size:32px\">🎉 Public URL Created!</h1><div style=\"background:rgba(255,255,255,.2);padding:20px;border-radius:10px;margin:20px 0;font-size:20px;font-weight:bold;word-break:break-all;font-family:monospace\">{url}</div><p style=\"font-size:18px;margin:15px 0\">📋 Copy URL นี้ไปใส่ในเว็บไซต์</p><p style=\"font-size:16px;opacity:.9\">https://aigen.ptee88.com/ → Settings → Google Colab</p></div>'\n",
    "    display(HTML(html))\n",
    "else:\n",
    "    print(\"❌ Failed. Try Cell 4.5 again.\")"
   ],
   "metadata": {
    "id": "c45"
   },
   "execution_count": null,
   "outputs": []
  },
  {
   "cell_type": "markdown",
   "source": [
    "# Cell 5.0 - 📊 Status\n"
   ],
   "metadata": {
    "id": "c5h"
   }
  },
  {
   "cell_type": "code",
   "source": [
    "import os,glob\n",
    "from IPython.display import HTML,display\n",
    "mdir='/content/drive/MyDrive/SD_Unlimited/models'\n",
    "models=glob.glob(os.path.join(mdir,'*.safetensors'))\n",
    "mnames=[os.path.basename(m) for m in models]\n",
    "html=f'<div style=\"font-family:sans-serif;max-width:800px;margin:20px auto\"><div style=\"background:linear-gradient(135deg,#667eea,#764ba2);color:white;padding:25px;border-radius:15px;margin:15px 0\"><h2 style=\"margin:0 0 15px 0\">🔞 SD Unlimited Status</h2><div style=\"background:rgba(255,255,255,.1);padding:12px;border-radius:8px\"><b>Status:</b> <span style=\"background:#7eff7e;color:#000;padding:5px 12px;border-radius:20px;font-weight:bold\">RUNNING</span></div></div><div style=\"background:linear-gradient(135deg,#667eea,#764ba2);color:white;padding:25px;border-radius:15px;margin:15px 0\"><h2 style=\"margin:0 0 15px 0\">📦 Models ({len(mnames)})</h2><div style=\"background:rgba(255,255,255,.1);padding:15px;border-radius:8px\">'\n",
    "if mnames:\n",
    "    for m in mnames:html+=f'<div style=\"padding:8px;margin:5px 0;background:rgba(255,255,255,.1);border-radius:5px\">✅ {m}</div>'\n",
    "else:\n",
    "    html+='<div>⚠️ No models</div>'\n",
    "html+='</div></div><div style=\"background:linear-gradient(135deg,#667eea,#764ba2);color:white;padding:25px;border-radius:15px;margin:15px 0\"><h2 style=\"margin:0 0 15px 0\">📝 Next Steps</h2><div style=\"background:rgba(255,255,255,.1);padding:15px;border-radius:8px\">1️⃣ Copy URL from Cell 4.5<br>2️⃣ Go to https://aigen.ptee88.com/<br>3️⃣ Settings → Colab → Paste URL<br>4️⃣ Settings → Enable NSFW Mode<br>5️⃣ Generate! 🎨</div></div></div>'\n",
    "display(HTML(html))\n",
    "print(\"\\n✅ Dashboard loaded!\")"
   ],
   "metadata": {
    "id": "c5"
   },
   "execution_count": null,
   "outputs": []
  }
 ]
}
